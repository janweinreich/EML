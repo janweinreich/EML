{
 "cells": [
  {
   "cell_type": "code",
   "execution_count": 1,
   "metadata": {},
   "outputs": [
    {
     "name": "stdout",
     "output_type": "stream",
     "text": [
      "4 + 4 = 8 = 8\n"
     ]
    },
    {
     "name": "stderr",
     "output_type": "stream",
     "text": [
      "/home/jan/miniconda3/envs/fhe/lib/python3.8/site-packages/tqdm/auto.py:21: TqdmWarning: IProgress not found. Please update jupyter and ipywidgets. See https://ipywidgets.readthedocs.io/en/stable/user_install.html\n",
      "  from .autonotebook import tqdm as notebook_tqdm\n"
     ]
    }
   ],
   "source": [
    "from concrete import fhe\n",
    "\n",
    "def add(x, y):\n",
    "    return x + y\n",
    "\n",
    "compiler = fhe.Compiler(add, {\"x\": \"encrypted\", \"y\": \"clear\"})\n",
    "\n",
    "inputset = [(2, 3), (0, 0), (1, 6), (7, 7), (7, 1)]\n",
    "circuit = compiler.compile(inputset)\n",
    "\n",
    "x = 4\n",
    "y = 4\n",
    "\n",
    "clear_evaluation = add(x, y)\n",
    "homomorphic_evaluation = circuit.encrypt_run_decrypt(x, y)\n",
    "\n",
    "print(x, \"+\", y, \"=\", clear_evaluation, \"=\", homomorphic_evaluation)"
   ]
  }
 ],
 "metadata": {
  "kernelspec": {
   "display_name": "fhe",
   "language": "python",
   "name": "python3"
  },
  "language_info": {
   "codemirror_mode": {
    "name": "ipython",
    "version": 3
   },
   "file_extension": ".py",
   "mimetype": "text/x-python",
   "name": "python",
   "nbconvert_exporter": "python",
   "pygments_lexer": "ipython3",
   "version": "3.8.16"
  },
  "orig_nbformat": 4
 },
 "nbformat": 4,
 "nbformat_minor": 2
}
